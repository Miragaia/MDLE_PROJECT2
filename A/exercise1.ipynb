{
 "cells": [
  {
   "cell_type": "markdown",
   "id": "17f92ac2",
   "metadata": {},
   "source": [
    "# People You Might Know - Recommendation System\n",
    "\n",
    "This notebook implements a friendship recommendation system using PySpark based on the **LiveJournal** social network data.  \n",
    "It computes mutual friends and suggests up to 10 potential friends per user."
   ]
  },
  {
   "cell_type": "markdown",
   "id": "8b728e41",
   "metadata": {},
   "source": [
    "## Initialization"
   ]
  },
  {
   "cell_type": "code",
   "execution_count": 30,
   "id": "a24b9179",
   "metadata": {},
   "outputs": [],
   "source": [
    "from pyspark import SparkContext\n",
    "import pandas as pd\n",
    "\n",
    "sc = SparkContext(appName=\"PeopleYouMightKnow\")"
   ]
  },
  {
   "cell_type": "markdown",
   "id": "d3dba7ee",
   "metadata": {},
   "source": [
    "## Step 1: Load and Parse Input\n",
    "\n",
    "The dataset is a text file where each line contains a user ID and a comma-separated list of their friends:\n",
    "\n",
    "UserID`<TAB>`Friend1,Friend2,...\n",
    "\n",
    "Parse the data into `(user, set(friends))`."
   ]
  },
  {
   "cell_type": "code",
   "execution_count": 31,
   "id": "916cb894",
   "metadata": {},
   "outputs": [],
   "source": [
    "lines = sc.textFile(\"soc-LiveJournal1Adj.txt\")\n",
    "\n",
    "def safe_parse(line):\n",
    "    parts = line.strip().split(\"\\t\")\n",
    "    if len(parts) != 2 or not parts[1].strip():\n",
    "        return None\n",
    "    try:\n",
    "        user = int(parts[0])\n",
    "        friends = set(map(int, parts[1].split(\",\")))\n",
    "        return (user, friends)\n",
    "    except:\n",
    "        return None\n",
    "\n",
    "user_friends = lines.map(safe_parse).filter(lambda x: x is not None)"
   ]
  },
  {
   "cell_type": "code",
   "execution_count": 32,
   "id": "6be40034",
   "metadata": {},
   "outputs": [
    {
     "name": "stderr",
     "output_type": "stream",
     "text": [
      "                                                                                \r"
     ]
    },
    {
     "data": {
      "application/vnd.microsoft.datawrangler.viewer.v0+json": {
       "columns": [
        {
         "name": "index",
         "rawType": "int64",
         "type": "integer"
        },
        {
         "name": "User",
         "rawType": "int64",
         "type": "integer"
        },
        {
         "name": "Friends",
         "rawType": "object",
         "type": "unknown"
        }
       ],
       "conversionMethod": "pd.DataFrame",
       "ref": "bcdcc8d7-cc78-445b-94cf-fc21c593419e",
       "rows": [
        [
         "0",
         "0",
         "[1, 2, 3, 4, 5, 6, 7, 8, 9, 10, 11, 12, 13, 14, 15, 16, 17, 18, 19, 20, 21, 22, 23, 24, 25, 26, 27, 28, 29, 30, 31, 32, 33, 34, 35, 36, 37, 38, 39, 40, 41, 42, 43, 44, 45, 46, 47, 48, 49, 50, 51, 52, 53, 54, 55, 56, 57, 58, 59, 60, 61, 62, 63, 64, 65, 66, 67, 68, 69, 70, 71, 72, 73, 74, 75, 76, 77, 78, 79, 80, 81, 82, 83, 84, 85, 86, 87, 88, 89, 90, 91, 92, 93, 94]"
        ],
        [
         "1",
         "1",
         "[0, 31232, 29826, 35589, 5, 135, 4999, 34439, 8715, 6156, 13840, 19217, 27536, 34450, 20, 13845, 35605, 35606, 22939, 29724, 35613, 29726, 28193, 33060, 14248, 29481, 12846, 44846, 35633, 30257, 21556, 14005, 43447, 49592, 12347, 32317, 35648, 49985, 29767, 49226, 31435, 34250, 38737, 15190, 44887, 13912, 34392, 34394, 34651, 35678, 29791, 23520, 30691, 8932, 17636, 34406, 34280, 2409, 32489, 20075, 20074, 623, 34418, 34420, 629, 45054, 10623]"
        ],
        [
         "2",
         "2",
         "[0, 2755, 1220, 12453, 13795, 135, 49927, 24714, 6893, 41456, 16659, 117, 45046, 41878, 24539, 32828]"
        ],
        [
         "3",
         "3",
         "[0, 13185, 27552, 41, 12, 1532, 38737, 55, 12636]"
        ],
        [
         "4",
         "4",
         "[0, 19079, 8, 38792, 14, 15, 18, 24596, 27, 38822, 46126, 72, 42697, 74, 77, 80, 15326, 33269, 19068]"
        ]
       ],
       "shape": {
        "columns": 2,
        "rows": 5
       }
      },
      "text/html": [
       "<div>\n",
       "<style scoped>\n",
       "    .dataframe tbody tr th:only-of-type {\n",
       "        vertical-align: middle;\n",
       "    }\n",
       "\n",
       "    .dataframe tbody tr th {\n",
       "        vertical-align: top;\n",
       "    }\n",
       "\n",
       "    .dataframe thead th {\n",
       "        text-align: right;\n",
       "    }\n",
       "</style>\n",
       "<table border=\"1\" class=\"dataframe\">\n",
       "  <thead>\n",
       "    <tr style=\"text-align: right;\">\n",
       "      <th></th>\n",
       "      <th>User</th>\n",
       "      <th>Friends</th>\n",
       "    </tr>\n",
       "  </thead>\n",
       "  <tbody>\n",
       "    <tr>\n",
       "      <th>0</th>\n",
       "      <td>0</td>\n",
       "      <td>[1, 2, 3, 4, 5, 6, 7, 8, 9, 10, 11, 12, 13, 14...</td>\n",
       "    </tr>\n",
       "    <tr>\n",
       "      <th>1</th>\n",
       "      <td>1</td>\n",
       "      <td>[0, 31232, 29826, 35589, 5, 135, 4999, 34439, ...</td>\n",
       "    </tr>\n",
       "    <tr>\n",
       "      <th>2</th>\n",
       "      <td>2</td>\n",
       "      <td>[0, 2755, 1220, 12453, 13795, 135, 49927, 2471...</td>\n",
       "    </tr>\n",
       "    <tr>\n",
       "      <th>3</th>\n",
       "      <td>3</td>\n",
       "      <td>[0, 13185, 27552, 41, 12, 1532, 38737, 55, 12636]</td>\n",
       "    </tr>\n",
       "    <tr>\n",
       "      <th>4</th>\n",
       "      <td>4</td>\n",
       "      <td>[0, 19079, 8, 38792, 14, 15, 18, 24596, 27, 38...</td>\n",
       "    </tr>\n",
       "  </tbody>\n",
       "</table>\n",
       "</div>"
      ],
      "text/plain": [
       "   User                                            Friends\n",
       "0     0  [1, 2, 3, 4, 5, 6, 7, 8, 9, 10, 11, 12, 13, 14...\n",
       "1     1  [0, 31232, 29826, 35589, 5, 135, 4999, 34439, ...\n",
       "2     2  [0, 2755, 1220, 12453, 13795, 135, 49927, 2471...\n",
       "3     3  [0, 13185, 27552, 41, 12, 1532, 38737, 55, 12636]\n",
       "4     4  [0, 19079, 8, 38792, 14, 15, 18, 24596, 27, 38..."
      ]
     },
     "execution_count": 32,
     "metadata": {},
     "output_type": "execute_result"
    }
   ],
   "source": [
    "sample_data = user_friends.take(5)\n",
    "df = pd.DataFrame([(user, list(friends)) for user, friends in sample_data], columns=[\"User\", \"Friends\"])\n",
    "df"
   ]
  },
  {
   "cell_type": "markdown",
   "id": "360e53a8",
   "metadata": {},
   "source": [
    "## Step 2: Compute Mutual Friends\n",
    "\n",
    "Generate candidate friend pairs by checking which users share mutual friends."
   ]
  },
  {
   "cell_type": "code",
   "execution_count": 33,
   "id": "dc07642a",
   "metadata": {},
   "outputs": [],
   "source": [
    "user_friend_map = user_friends.collectAsMap()\n",
    "user_friend_bcast = sc.broadcast(user_friend_map)\n",
    "\n",
    "def generate_candidate_pairs(user, friends):\n",
    "    for friend1 in friends:\n",
    "        for friend2 in friends:\n",
    "            if friend1 < friend2:\n",
    "                yield ((friend1, friend2), 1)\n",
    "\n",
    "mutual_counts = user_friends.flatMap(lambda x: generate_candidate_pairs(x[0], x[1])) \\\n",
    "                            .reduceByKey(lambda a, b: a + b)"
   ]
  },
  {
   "cell_type": "markdown",
   "id": "ed117eb4",
   "metadata": {},
   "source": [
    "## Step 3: Filter Out Direct Friends\n",
    "\n",
    "Remove existing friends and the user themself from the candidate list."
   ]
  },
  {
   "cell_type": "code",
   "execution_count": 34,
   "id": "dbce0c07",
   "metadata": {},
   "outputs": [],
   "source": [
    "recommendations = mutual_counts.flatMap(lambda x: [\n",
    "    (x[0][0], (x[0][1], x[1])),\n",
    "    (x[0][1], (x[0][0], x[1]))\n",
    "])\n",
    "\n",
    "def filter_direct(user, recs):\n",
    "    direct_friends = user_friend_bcast.value.get(user, set())\n",
    "    return [(other, count) for (other, count) in recs\n",
    "            if other not in direct_friends and other != user]"
   ]
  },
  {
   "cell_type": "code",
   "execution_count": 35,
   "id": "d73ec30a",
   "metadata": {},
   "outputs": [
    {
     "name": "stderr",
     "output_type": "stream",
     "text": [
      "                                                                                \r"
     ]
    }
   ],
   "source": [
    "top_recommendations = recommendations.groupByKey() \\\n",
    "    .map(lambda x: (\n",
    "        x[0],\n",
    "        sorted(\n",
    "            filter_direct(user=x[0], recs=list(x[1])),\n",
    "            key=lambda r: (-r[1], r[0])\n",
    "        )[:10]\n",
    "    ))\n",
    "\n",
    "results = top_recommendations.map(lambda x: f\"{x[0]}\\t{','.join(str(r[0]) for r in x[1])}\").collect()"
   ]
  },
  {
   "cell_type": "markdown",
   "id": "e536ff8d",
   "metadata": {},
   "source": [
    "## Step 4: Show and Save Results\n",
    "Few sample recommendations and save the output."
   ]
  },
  {
   "cell_type": "code",
   "execution_count": 36,
   "id": "bafb5249",
   "metadata": {},
   "outputs": [
    {
     "name": "stdout",
     "output_type": "stream",
     "text": [
      "2192\t2138,2139,2158,2195,2143,2135,2140,2148,2154,2211\n",
      "6030\t1664,439,1667,13847,18916,22265,27609,34299,43593,19\n",
      "13886\t13911,13966,13867,14027,13891,13960,14130,13965,13981,13917\n",
      "44192\t37580,37597,37734,37735,37822,37675,10144,37378,37537,41367\n",
      "23034\t8671,9891,23014,2557,2608,4389,4717,5086,13795,16532\n"
     ]
    }
   ],
   "source": [
    "for line in results[:5]:\n",
    "    print(line)\n",
    "\n",
    "with open(\"recommendations.txt\", \"w\") as f:\n",
    "    for line in results:\n",
    "        f.write(line + \"\\n\")\n",
    "\n",
    "sc.stop()"
   ]
  }
 ],
 "metadata": {
  "kernelspec": {
   "display_name": "ds",
   "language": "python",
   "name": "python3"
  },
  "language_info": {
   "codemirror_mode": {
    "name": "ipython",
    "version": 3
   },
   "file_extension": ".py",
   "mimetype": "text/x-python",
   "name": "python",
   "nbconvert_exporter": "python",
   "pygments_lexer": "ipython3",
   "version": "3.12.5"
  }
 },
 "nbformat": 4,
 "nbformat_minor": 5
}
