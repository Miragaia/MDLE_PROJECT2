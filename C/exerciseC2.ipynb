{
 "cells": [
  {
   "cell_type": "markdown",
   "id": "c136059d",
   "metadata": {},
   "source": [
    "# Exercise 2\n",
    "- BFR Clustering on FMA Dataset using PySpark\n",
    "- This notebook implements the BFR clustering algorithm on the full FMA dataset"
   ]
  },
  {
   "cell_type": "code",
   "execution_count": 9,
   "id": "fca5c09e",
   "metadata": {},
   "outputs": [],
   "source": [
    "from pyspark.sql import SparkSession\n",
    "from pyspark.sql.functions import col\n",
    "from pyspark.sql.types import IntegerType, FloatType\n",
    "from pyspark.ml.linalg import Vectors\n",
    "from pyspark.ml.clustering import KMeans\n",
    "import numpy as np\n",
    "import json\n",
    "from collections import defaultdict\n",
    "\n",
    "# 1. Initialize Spark Session\n",
    "spark = SparkSession.builder \\\n",
    "    .appName(\"BFR Clustering on FMA\") \\\n",
    "    .master(\"local[*]\") \\\n",
    "    .config(\"spark.driver.memory\", \"6g\") \\\n",
    "    .getOrCreate()"
   ]
  },
  {
   "cell_type": "markdown",
   "id": "fc6e869f",
   "metadata": {},
   "source": [
    "## 2. Load CSV \n",
    "Remove First 3 Header Rows"
   ]
  },
  {
   "cell_type": "code",
   "execution_count": 10,
   "id": "c28370ca",
   "metadata": {},
   "outputs": [],
   "source": [
    "raw_df = spark.read.csv(\"./fma_metadata/features.csv\", header=True)\n",
    "data_df = raw_df.subtract(raw_df.limit(3))"
   ]
  },
  {
   "cell_type": "markdown",
   "id": "c94a3fb6",
   "metadata": {},
   "source": [
    "## 3. Convert Columns to Float"
   ]
  },
  {
   "cell_type": "code",
   "execution_count": 11,
   "id": "37d482aa",
   "metadata": {},
   "outputs": [],
   "source": [
    "columns = data_df.columns\n",
    "num_features = len(columns) - 1\n",
    "\n",
    "data_df = data_df.select(\n",
    "    col(columns[0]).cast(IntegerType()).alias(\"track_id\"),\n",
    "    *[col(c).cast(FloatType()).alias(c) for c in columns[1:]]\n",
    ")"
   ]
  },
  {
   "cell_type": "markdown",
   "id": "90460871",
   "metadata": {},
   "source": [
    "## 4. Compute Mean/Std for Normalization"
   ]
  },
  {
   "cell_type": "code",
   "execution_count": 12,
   "id": "05844dd9",
   "metadata": {},
   "outputs": [
    {
     "name": "stderr",
     "output_type": "stream",
     "text": [
      "25/05/07 22:45:42 WARN CSVHeaderChecker: CSV header does not conform to the schema.\n",
      " Header: feature, chroma_cens, chroma_cens, chroma_cens, chroma_cens, chroma_cens, chroma_cens, chroma_cens, chroma_cens, chroma_cens, chroma_cens, chroma_cens, chroma_cens, chroma_cens, chroma_cens, chroma_cens, chroma_cens, chroma_cens, chroma_cens, chroma_cens, chroma_cens, chroma_cens, chroma_cens, chroma_cens, chroma_cens, chroma_cens, chroma_cens, chroma_cens, chroma_cens, chroma_cens, chroma_cens, chroma_cens, chroma_cens, chroma_cens, chroma_cens, chroma_cens, chroma_cens, chroma_cens, chroma_cens, chroma_cens, chroma_cens, chroma_cens, chroma_cens, chroma_cens, chroma_cens, chroma_cens, chroma_cens, chroma_cens, chroma_cens, chroma_cens, chroma_cens, chroma_cens, chroma_cens, chroma_cens, chroma_cens, chroma_cens, chroma_cens, chroma_cens, chroma_cens, chroma_cens, chroma_cens, chroma_cens, chroma_cens, chroma_cens, chroma_cens, chroma_cens, chroma_cens, chroma_cens, chroma_cens, chroma_cens, chroma_cens, chroma_cens, chroma_cens, chroma_cens, chroma_cens, chroma_cens, chroma_cens, chroma_cens, chroma_cens, chroma_cens, chroma_cens, chroma_cens, chroma_cens, chroma_cens, chroma_cens, chroma_cqt, chroma_cqt, chroma_cqt, chroma_cqt, chroma_cqt, chroma_cqt, chroma_cqt, chroma_cqt, chroma_cqt, chroma_cqt, chroma_cqt, chroma_cqt, chroma_cqt, chroma_cqt, chroma_cqt, chroma_cqt, chroma_cqt, chroma_cqt, chroma_cqt, chroma_cqt, chroma_cqt, chroma_cqt, chroma_cqt, chroma_cqt, chroma_cqt, chroma_cqt, chroma_cqt, chroma_cqt, chroma_cqt, chroma_cqt, chroma_cqt, chroma_cqt, chroma_cqt, chroma_cqt, chroma_cqt, chroma_cqt, chroma_cqt, chroma_cqt, chroma_cqt, chroma_cqt, chroma_cqt, chroma_cqt, chroma_cqt, chroma_cqt, chroma_cqt, chroma_cqt, chroma_cqt, chroma_cqt, chroma_cqt, chroma_cqt, chroma_cqt, chroma_cqt, chroma_cqt, chroma_cqt, chroma_cqt, chroma_cqt, chroma_cqt, chroma_cqt, chroma_cqt, chroma_cqt, chroma_cqt, chroma_cqt, chroma_cqt, chroma_cqt, chroma_cqt, chroma_cqt, chroma_cqt, chroma_cqt, chroma_cqt, chroma_cqt, chroma_cqt, chroma_cqt, chroma_cqt, chroma_cqt, chroma_cqt, chroma_cqt, chroma_cqt, chroma_cqt, chroma_cqt, chroma_cqt, chroma_cqt, chroma_cqt, chroma_cqt, chroma_cqt, chroma_stft, chroma_stft, chroma_stft, chroma_stft, chroma_stft, chroma_stft, chroma_stft, chroma_stft, chroma_stft, chroma_stft, chroma_stft, chroma_stft, chroma_stft, chroma_stft, chroma_stft, chroma_stft, chroma_stft, chroma_stft, chroma_stft, chroma_stft, chroma_stft, chroma_stft, chroma_stft, chroma_stft, chroma_stft, chroma_stft, chroma_stft, chroma_stft, chroma_stft, chroma_stft, chroma_stft, chroma_stft, chroma_stft, chroma_stft, chroma_stft, chroma_stft, chroma_stft, chroma_stft, chroma_stft, chroma_stft, chroma_stft, chroma_stft, chroma_stft, chroma_stft, chroma_stft, chroma_stft, chroma_stft, chroma_stft, chroma_stft, chroma_stft, chroma_stft, chroma_stft, chroma_stft, chroma_stft, chroma_stft, chroma_stft, chroma_stft, chroma_stft, chroma_stft, chroma_stft, chroma_stft, chroma_stft, chroma_stft, chroma_stft, chroma_stft, chroma_stft, chroma_stft, chroma_stft, chroma_stft, chroma_stft, chroma_stft, chroma_stft, chroma_stft, chroma_stft, chroma_stft, chroma_stft, chroma_stft, chroma_stft, chroma_stft, chroma_stft, chroma_stft, chroma_stft, chroma_stft, chroma_stft, mfcc, mfcc, mfcc, mfcc, mfcc, mfcc, mfcc, mfcc, mfcc, mfcc, mfcc, mfcc, mfcc, mfcc, mfcc, mfcc, mfcc, mfcc, mfcc, mfcc, mfcc, mfcc, mfcc, mfcc, mfcc, mfcc, mfcc, mfcc, mfcc, mfcc, mfcc, mfcc, mfcc, mfcc, mfcc, mfcc, mfcc, mfcc, mfcc, mfcc, mfcc, mfcc, mfcc, mfcc, mfcc, mfcc, mfcc, mfcc, mfcc, mfcc, mfcc, mfcc, mfcc, mfcc, mfcc, mfcc, mfcc, mfcc, mfcc, mfcc, mfcc, mfcc, mfcc, mfcc, mfcc, mfcc, mfcc, mfcc, mfcc, mfcc, mfcc, mfcc, mfcc, mfcc, mfcc, mfcc, mfcc, mfcc, mfcc, mfcc, mfcc, mfcc, mfcc, mfcc, mfcc, mfcc, mfcc, mfcc, mfcc, mfcc, mfcc, mfcc, mfcc, mfcc, mfcc, mfcc, mfcc, mfcc, mfcc, mfcc, mfcc, mfcc, mfcc, mfcc, mfcc, mfcc, mfcc, mfcc, mfcc, mfcc, mfcc, mfcc, mfcc, mfcc, mfcc, mfcc, mfcc, mfcc, mfcc, mfcc, mfcc, mfcc, mfcc, mfcc, mfcc, mfcc, mfcc, mfcc, mfcc, mfcc, mfcc, mfcc, mfcc, mfcc, mfcc, mfcc, mfcc, mfcc, mfcc, mfcc, rmse, rmse, rmse, rmse, rmse, rmse, rmse, spectral_bandwidth, spectral_bandwidth, spectral_bandwidth, spectral_bandwidth, spectral_bandwidth, spectral_bandwidth, spectral_bandwidth, spectral_centroid, spectral_centroid, spectral_centroid, spectral_centroid, spectral_centroid, spectral_centroid, spectral_centroid, spectral_contrast, spectral_contrast, spectral_contrast, spectral_contrast, spectral_contrast, spectral_contrast, spectral_contrast, spectral_contrast, spectral_contrast, spectral_contrast, spectral_contrast, spectral_contrast, spectral_contrast, spectral_contrast, spectral_contrast, spectral_contrast, spectral_contrast, spectral_contrast, spectral_contrast, spectral_contrast, spectral_contrast, spectral_contrast, spectral_contrast, spectral_contrast, spectral_contrast, spectral_contrast, spectral_contrast, spectral_contrast, spectral_contrast, spectral_contrast, spectral_contrast, spectral_contrast, spectral_contrast, spectral_contrast, spectral_contrast, spectral_contrast, spectral_contrast, spectral_contrast, spectral_contrast, spectral_contrast, spectral_contrast, spectral_contrast, spectral_contrast, spectral_contrast, spectral_contrast, spectral_contrast, spectral_contrast, spectral_contrast, spectral_contrast, spectral_rolloff, spectral_rolloff, spectral_rolloff, spectral_rolloff, spectral_rolloff, spectral_rolloff, spectral_rolloff, tonnetz, tonnetz, tonnetz, tonnetz, tonnetz, tonnetz, tonnetz, tonnetz, tonnetz, tonnetz, tonnetz, tonnetz, tonnetz, tonnetz, tonnetz, tonnetz, tonnetz, tonnetz, tonnetz, tonnetz, tonnetz, tonnetz, tonnetz, tonnetz, tonnetz, tonnetz, tonnetz, tonnetz, tonnetz, tonnetz, tonnetz, tonnetz, tonnetz, tonnetz, tonnetz, tonnetz, tonnetz, tonnetz, tonnetz, tonnetz, tonnetz, tonnetz, zcr, zcr, zcr, zcr, zcr, zcr, zcr\n",
      " Schema: feature, chroma_cens1, chroma_cens2, chroma_cens3, chroma_cens4, chroma_cens5, chroma_cens6, chroma_cens7, chroma_cens8, chroma_cens9, chroma_cens10, chroma_cens11, chroma_cens12, chroma_cens13, chroma_cens14, chroma_cens15, chroma_cens16, chroma_cens17, chroma_cens18, chroma_cens19, chroma_cens20, chroma_cens21, chroma_cens22, chroma_cens23, chroma_cens24, chroma_cens25, chroma_cens26, chroma_cens27, chroma_cens28, chroma_cens29, chroma_cens30, chroma_cens31, chroma_cens32, chroma_cens33, chroma_cens34, chroma_cens35, chroma_cens36, chroma_cens37, chroma_cens38, chroma_cens39, chroma_cens40, chroma_cens41, chroma_cens42, chroma_cens43, chroma_cens44, chroma_cens45, chroma_cens46, chroma_cens47, chroma_cens48, chroma_cens49, chroma_cens50, chroma_cens51, chroma_cens52, chroma_cens53, chroma_cens54, chroma_cens55, chroma_cens56, chroma_cens57, chroma_cens58, chroma_cens59, chroma_cens60, chroma_cens61, chroma_cens62, chroma_cens63, chroma_cens64, chroma_cens65, chroma_cens66, chroma_cens67, chroma_cens68, chroma_cens69, chroma_cens70, chroma_cens71, chroma_cens72, chroma_cens73, chroma_cens74, chroma_cens75, chroma_cens76, chroma_cens77, chroma_cens78, chroma_cens79, chroma_cens80, chroma_cens81, chroma_cens82, chroma_cens83, chroma_cens84, chroma_cqt85, chroma_cqt86, chroma_cqt87, chroma_cqt88, chroma_cqt89, chroma_cqt90, chroma_cqt91, chroma_cqt92, chroma_cqt93, chroma_cqt94, chroma_cqt95, chroma_cqt96, chroma_cqt97, chroma_cqt98, chroma_cqt99, chroma_cqt100, chroma_cqt101, chroma_cqt102, chroma_cqt103, chroma_cqt104, chroma_cqt105, chroma_cqt106, chroma_cqt107, chroma_cqt108, chroma_cqt109, chroma_cqt110, chroma_cqt111, chroma_cqt112, chroma_cqt113, chroma_cqt114, chroma_cqt115, chroma_cqt116, chroma_cqt117, chroma_cqt118, chroma_cqt119, chroma_cqt120, chroma_cqt121, chroma_cqt122, chroma_cqt123, chroma_cqt124, chroma_cqt125, chroma_cqt126, chroma_cqt127, chroma_cqt128, chroma_cqt129, chroma_cqt130, chroma_cqt131, chroma_cqt132, chroma_cqt133, chroma_cqt134, chroma_cqt135, chroma_cqt136, chroma_cqt137, chroma_cqt138, chroma_cqt139, chroma_cqt140, chroma_cqt141, chroma_cqt142, chroma_cqt143, chroma_cqt144, chroma_cqt145, chroma_cqt146, chroma_cqt147, chroma_cqt148, chroma_cqt149, chroma_cqt150, chroma_cqt151, chroma_cqt152, chroma_cqt153, chroma_cqt154, chroma_cqt155, chroma_cqt156, chroma_cqt157, chroma_cqt158, chroma_cqt159, chroma_cqt160, chroma_cqt161, chroma_cqt162, chroma_cqt163, chroma_cqt164, chroma_cqt165, chroma_cqt166, chroma_cqt167, chroma_cqt168, chroma_stft169, chroma_stft170, chroma_stft171, chroma_stft172, chroma_stft173, chroma_stft174, chroma_stft175, chroma_stft176, chroma_stft177, chroma_stft178, chroma_stft179, chroma_stft180, chroma_stft181, chroma_stft182, chroma_stft183, chroma_stft184, chroma_stft185, chroma_stft186, chroma_stft187, chroma_stft188, chroma_stft189, chroma_stft190, chroma_stft191, chroma_stft192, chroma_stft193, chroma_stft194, chroma_stft195, chroma_stft196, chroma_stft197, chroma_stft198, chroma_stft199, chroma_stft200, chroma_stft201, chroma_stft202, chroma_stft203, chroma_stft204, chroma_stft205, chroma_stft206, chroma_stft207, chroma_stft208, chroma_stft209, chroma_stft210, chroma_stft211, chroma_stft212, chroma_stft213, chroma_stft214, chroma_stft215, chroma_stft216, chroma_stft217, chroma_stft218, chroma_stft219, chroma_stft220, chroma_stft221, chroma_stft222, chroma_stft223, chroma_stft224, chroma_stft225, chroma_stft226, chroma_stft227, chroma_stft228, chroma_stft229, chroma_stft230, chroma_stft231, chroma_stft232, chroma_stft233, chroma_stft234, chroma_stft235, chroma_stft236, chroma_stft237, chroma_stft238, chroma_stft239, chroma_stft240, chroma_stft241, chroma_stft242, chroma_stft243, chroma_stft244, chroma_stft245, chroma_stft246, chroma_stft247, chroma_stft248, chroma_stft249, chroma_stft250, chroma_stft251, chroma_stft252, mfcc253, mfcc254, mfcc255, mfcc256, mfcc257, mfcc258, mfcc259, mfcc260, mfcc261, mfcc262, mfcc263, mfcc264, mfcc265, mfcc266, mfcc267, mfcc268, mfcc269, mfcc270, mfcc271, mfcc272, mfcc273, mfcc274, mfcc275, mfcc276, mfcc277, mfcc278, mfcc279, mfcc280, mfcc281, mfcc282, mfcc283, mfcc284, mfcc285, mfcc286, mfcc287, mfcc288, mfcc289, mfcc290, mfcc291, mfcc292, mfcc293, mfcc294, mfcc295, mfcc296, mfcc297, mfcc298, mfcc299, mfcc300, mfcc301, mfcc302, mfcc303, mfcc304, mfcc305, mfcc306, mfcc307, mfcc308, mfcc309, mfcc310, mfcc311, mfcc312, mfcc313, mfcc314, mfcc315, mfcc316, mfcc317, mfcc318, mfcc319, mfcc320, mfcc321, mfcc322, mfcc323, mfcc324, mfcc325, mfcc326, mfcc327, mfcc328, mfcc329, mfcc330, mfcc331, mfcc332, mfcc333, mfcc334, mfcc335, mfcc336, mfcc337, mfcc338, mfcc339, mfcc340, mfcc341, mfcc342, mfcc343, mfcc344, mfcc345, mfcc346, mfcc347, mfcc348, mfcc349, mfcc350, mfcc351, mfcc352, mfcc353, mfcc354, mfcc355, mfcc356, mfcc357, mfcc358, mfcc359, mfcc360, mfcc361, mfcc362, mfcc363, mfcc364, mfcc365, mfcc366, mfcc367, mfcc368, mfcc369, mfcc370, mfcc371, mfcc372, mfcc373, mfcc374, mfcc375, mfcc376, mfcc377, mfcc378, mfcc379, mfcc380, mfcc381, mfcc382, mfcc383, mfcc384, mfcc385, mfcc386, mfcc387, mfcc388, mfcc389, mfcc390, mfcc391, mfcc392, rmse393, rmse394, rmse395, rmse396, rmse397, rmse398, rmse399, spectral_bandwidth400, spectral_bandwidth401, spectral_bandwidth402, spectral_bandwidth403, spectral_bandwidth404, spectral_bandwidth405, spectral_bandwidth406, spectral_centroid407, spectral_centroid408, spectral_centroid409, spectral_centroid410, spectral_centroid411, spectral_centroid412, spectral_centroid413, spectral_contrast414, spectral_contrast415, spectral_contrast416, spectral_contrast417, spectral_contrast418, spectral_contrast419, spectral_contrast420, spectral_contrast421, spectral_contrast422, spectral_contrast423, spectral_contrast424, spectral_contrast425, spectral_contrast426, spectral_contrast427, spectral_contrast428, spectral_contrast429, spectral_contrast430, spectral_contrast431, spectral_contrast432, spectral_contrast433, spectral_contrast434, spectral_contrast435, spectral_contrast436, spectral_contrast437, spectral_contrast438, spectral_contrast439, spectral_contrast440, spectral_contrast441, spectral_contrast442, spectral_contrast443, spectral_contrast444, spectral_contrast445, spectral_contrast446, spectral_contrast447, spectral_contrast448, spectral_contrast449, spectral_contrast450, spectral_contrast451, spectral_contrast452, spectral_contrast453, spectral_contrast454, spectral_contrast455, spectral_contrast456, spectral_contrast457, spectral_contrast458, spectral_contrast459, spectral_contrast460, spectral_contrast461, spectral_contrast462, spectral_rolloff463, spectral_rolloff464, spectral_rolloff465, spectral_rolloff466, spectral_rolloff467, spectral_rolloff468, spectral_rolloff469, tonnetz470, tonnetz471, tonnetz472, tonnetz473, tonnetz474, tonnetz475, tonnetz476, tonnetz477, tonnetz478, tonnetz479, tonnetz480, tonnetz481, tonnetz482, tonnetz483, tonnetz484, tonnetz485, tonnetz486, tonnetz487, tonnetz488, tonnetz489, tonnetz490, tonnetz491, tonnetz492, tonnetz493, tonnetz494, tonnetz495, tonnetz496, tonnetz497, tonnetz498, tonnetz499, tonnetz500, tonnetz501, tonnetz502, tonnetz503, tonnetz504, tonnetz505, tonnetz506, tonnetz507, tonnetz508, tonnetz509, tonnetz510, tonnetz511, zcr512, zcr513, zcr514, zcr515, zcr516, zcr517, zcr518\n",
      "Expected: chroma_cens1 but found: chroma_cens\n",
      "CSV file: file:///home/miragaia/Documents/4_ANO/2_SEMESTRE/MDLE/MDLE_PROJECT2/C/fma_metadata/features.csv\n",
      "25/05/07 22:45:43 WARN CSVHeaderChecker: CSV header does not conform to the schema.\n",
      " Header: feature, chroma_cens, chroma_cens, chroma_cens, chroma_cens, chroma_cens, chroma_cens, chroma_cens, chroma_cens, chroma_cens, chroma_cens, chroma_cens, chroma_cens, chroma_cens, chroma_cens, chroma_cens, chroma_cens, chroma_cens, chroma_cens, chroma_cens, chroma_cens, chroma_cens, chroma_cens, chroma_cens, chroma_cens, chroma_cens, chroma_cens, chroma_cens, chroma_cens, chroma_cens, chroma_cens, chroma_cens, chroma_cens, chroma_cens, chroma_cens, chroma_cens, chroma_cens, chroma_cens, chroma_cens, chroma_cens, chroma_cens, chroma_cens, chroma_cens, chroma_cens, chroma_cens, chroma_cens, chroma_cens, chroma_cens, chroma_cens, chroma_cens, chroma_cens, chroma_cens, chroma_cens, chroma_cens, chroma_cens, chroma_cens, chroma_cens, chroma_cens, chroma_cens, chroma_cens, chroma_cens, chroma_cens, chroma_cens, chroma_cens, chroma_cens, chroma_cens, chroma_cens, chroma_cens, chroma_cens, chroma_cens, chroma_cens, chroma_cens, chroma_cens, chroma_cens, chroma_cens, chroma_cens, chroma_cens, chroma_cens, chroma_cens, chroma_cens, chroma_cens, chroma_cens, chroma_cens, chroma_cens, chroma_cens, chroma_cqt, chroma_cqt, chroma_cqt, chroma_cqt, chroma_cqt, chroma_cqt, chroma_cqt, chroma_cqt, chroma_cqt, chroma_cqt, chroma_cqt, chroma_cqt, chroma_cqt, chroma_cqt, chroma_cqt, chroma_cqt, chroma_cqt, chroma_cqt, chroma_cqt, chroma_cqt, chroma_cqt, chroma_cqt, chroma_cqt, chroma_cqt, chroma_cqt, chroma_cqt, chroma_cqt, chroma_cqt, chroma_cqt, chroma_cqt, chroma_cqt, chroma_cqt, chroma_cqt, chroma_cqt, chroma_cqt, chroma_cqt, chroma_cqt, chroma_cqt, chroma_cqt, chroma_cqt, chroma_cqt, chroma_cqt, chroma_cqt, chroma_cqt, chroma_cqt, chroma_cqt, chroma_cqt, chroma_cqt, chroma_cqt, chroma_cqt, chroma_cqt, chroma_cqt, chroma_cqt, chroma_cqt, chroma_cqt, chroma_cqt, chroma_cqt, chroma_cqt, chroma_cqt, chroma_cqt, chroma_cqt, chroma_cqt, chroma_cqt, chroma_cqt, chroma_cqt, chroma_cqt, chroma_cqt, chroma_cqt, chroma_cqt, chroma_cqt, chroma_cqt, chroma_cqt, chroma_cqt, chroma_cqt, chroma_cqt, chroma_cqt, chroma_cqt, chroma_cqt, chroma_cqt, chroma_cqt, chroma_cqt, chroma_cqt, chroma_cqt, chroma_cqt, chroma_stft, chroma_stft, chroma_stft, chroma_stft, chroma_stft, chroma_stft, chroma_stft, chroma_stft, chroma_stft, chroma_stft, chroma_stft, chroma_stft, chroma_stft, chroma_stft, chroma_stft, chroma_stft, chroma_stft, chroma_stft, chroma_stft, chroma_stft, chroma_stft, chroma_stft, chroma_stft, chroma_stft, chroma_stft, chroma_stft, chroma_stft, chroma_stft, chroma_stft, chroma_stft, chroma_stft, chroma_stft, chroma_stft, chroma_stft, chroma_stft, chroma_stft, chroma_stft, chroma_stft, chroma_stft, chroma_stft, chroma_stft, chroma_stft, chroma_stft, chroma_stft, chroma_stft, chroma_stft, chroma_stft, chroma_stft, chroma_stft, chroma_stft, chroma_stft, chroma_stft, chroma_stft, chroma_stft, chroma_stft, chroma_stft, chroma_stft, chroma_stft, chroma_stft, chroma_stft, chroma_stft, chroma_stft, chroma_stft, chroma_stft, chroma_stft, chroma_stft, chroma_stft, chroma_stft, chroma_stft, chroma_stft, chroma_stft, chroma_stft, chroma_stft, chroma_stft, chroma_stft, chroma_stft, chroma_stft, chroma_stft, chroma_stft, chroma_stft, chroma_stft, chroma_stft, chroma_stft, chroma_stft, mfcc, mfcc, mfcc, mfcc, mfcc, mfcc, mfcc, mfcc, mfcc, mfcc, mfcc, mfcc, mfcc, mfcc, mfcc, mfcc, mfcc, mfcc, mfcc, mfcc, mfcc, mfcc, mfcc, mfcc, mfcc, mfcc, mfcc, mfcc, mfcc, mfcc, mfcc, mfcc, mfcc, mfcc, mfcc, mfcc, mfcc, mfcc, mfcc, mfcc, mfcc, mfcc, mfcc, mfcc, mfcc, mfcc, mfcc, mfcc, mfcc, mfcc, mfcc, mfcc, mfcc, mfcc, mfcc, mfcc, mfcc, mfcc, mfcc, mfcc, mfcc, mfcc, mfcc, mfcc, mfcc, mfcc, mfcc, mfcc, mfcc, mfcc, mfcc, mfcc, mfcc, mfcc, mfcc, mfcc, mfcc, mfcc, mfcc, mfcc, mfcc, mfcc, mfcc, mfcc, mfcc, mfcc, mfcc, mfcc, mfcc, mfcc, mfcc, mfcc, mfcc, mfcc, mfcc, mfcc, mfcc, mfcc, mfcc, mfcc, mfcc, mfcc, mfcc, mfcc, mfcc, mfcc, mfcc, mfcc, mfcc, mfcc, mfcc, mfcc, mfcc, mfcc, mfcc, mfcc, mfcc, mfcc, mfcc, mfcc, mfcc, mfcc, mfcc, mfcc, mfcc, mfcc, mfcc, mfcc, mfcc, mfcc, mfcc, mfcc, mfcc, mfcc, mfcc, mfcc, mfcc, mfcc, mfcc, mfcc, rmse, rmse, rmse, rmse, rmse, rmse, rmse, spectral_bandwidth, spectral_bandwidth, spectral_bandwidth, spectral_bandwidth, spectral_bandwidth, spectral_bandwidth, spectral_bandwidth, spectral_centroid, spectral_centroid, spectral_centroid, spectral_centroid, spectral_centroid, spectral_centroid, spectral_centroid, spectral_contrast, spectral_contrast, spectral_contrast, spectral_contrast, spectral_contrast, spectral_contrast, spectral_contrast, spectral_contrast, spectral_contrast, spectral_contrast, spectral_contrast, spectral_contrast, spectral_contrast, spectral_contrast, spectral_contrast, spectral_contrast, spectral_contrast, spectral_contrast, spectral_contrast, spectral_contrast, spectral_contrast, spectral_contrast, spectral_contrast, spectral_contrast, spectral_contrast, spectral_contrast, spectral_contrast, spectral_contrast, spectral_contrast, spectral_contrast, spectral_contrast, spectral_contrast, spectral_contrast, spectral_contrast, spectral_contrast, spectral_contrast, spectral_contrast, spectral_contrast, spectral_contrast, spectral_contrast, spectral_contrast, spectral_contrast, spectral_contrast, spectral_contrast, spectral_contrast, spectral_contrast, spectral_contrast, spectral_contrast, spectral_contrast, spectral_rolloff, spectral_rolloff, spectral_rolloff, spectral_rolloff, spectral_rolloff, spectral_rolloff, spectral_rolloff, tonnetz, tonnetz, tonnetz, tonnetz, tonnetz, tonnetz, tonnetz, tonnetz, tonnetz, tonnetz, tonnetz, tonnetz, tonnetz, tonnetz, tonnetz, tonnetz, tonnetz, tonnetz, tonnetz, tonnetz, tonnetz, tonnetz, tonnetz, tonnetz, tonnetz, tonnetz, tonnetz, tonnetz, tonnetz, tonnetz, tonnetz, tonnetz, tonnetz, tonnetz, tonnetz, tonnetz, tonnetz, tonnetz, tonnetz, tonnetz, tonnetz, tonnetz, zcr, zcr, zcr, zcr, zcr, zcr, zcr\n",
      " Schema: feature, chroma_cens1, chroma_cens2, chroma_cens3, chroma_cens4, chroma_cens5, chroma_cens6, chroma_cens7, chroma_cens8, chroma_cens9, chroma_cens10, chroma_cens11, chroma_cens12, chroma_cens13, chroma_cens14, chroma_cens15, chroma_cens16, chroma_cens17, chroma_cens18, chroma_cens19, chroma_cens20, chroma_cens21, chroma_cens22, chroma_cens23, chroma_cens24, chroma_cens25, chroma_cens26, chroma_cens27, chroma_cens28, chroma_cens29, chroma_cens30, chroma_cens31, chroma_cens32, chroma_cens33, chroma_cens34, chroma_cens35, chroma_cens36, chroma_cens37, chroma_cens38, chroma_cens39, chroma_cens40, chroma_cens41, chroma_cens42, chroma_cens43, chroma_cens44, chroma_cens45, chroma_cens46, chroma_cens47, chroma_cens48, chroma_cens49, chroma_cens50, chroma_cens51, chroma_cens52, chroma_cens53, chroma_cens54, chroma_cens55, chroma_cens56, chroma_cens57, chroma_cens58, chroma_cens59, chroma_cens60, chroma_cens61, chroma_cens62, chroma_cens63, chroma_cens64, chroma_cens65, chroma_cens66, chroma_cens67, chroma_cens68, chroma_cens69, chroma_cens70, chroma_cens71, chroma_cens72, chroma_cens73, chroma_cens74, chroma_cens75, chroma_cens76, chroma_cens77, chroma_cens78, chroma_cens79, chroma_cens80, chroma_cens81, chroma_cens82, chroma_cens83, chroma_cens84, chroma_cqt85, chroma_cqt86, chroma_cqt87, chroma_cqt88, chroma_cqt89, chroma_cqt90, chroma_cqt91, chroma_cqt92, chroma_cqt93, chroma_cqt94, chroma_cqt95, chroma_cqt96, chroma_cqt97, chroma_cqt98, chroma_cqt99, chroma_cqt100, chroma_cqt101, chroma_cqt102, chroma_cqt103, chroma_cqt104, chroma_cqt105, chroma_cqt106, chroma_cqt107, chroma_cqt108, chroma_cqt109, chroma_cqt110, chroma_cqt111, chroma_cqt112, chroma_cqt113, chroma_cqt114, chroma_cqt115, chroma_cqt116, chroma_cqt117, chroma_cqt118, chroma_cqt119, chroma_cqt120, chroma_cqt121, chroma_cqt122, chroma_cqt123, chroma_cqt124, chroma_cqt125, chroma_cqt126, chroma_cqt127, chroma_cqt128, chroma_cqt129, chroma_cqt130, chroma_cqt131, chroma_cqt132, chroma_cqt133, chroma_cqt134, chroma_cqt135, chroma_cqt136, chroma_cqt137, chroma_cqt138, chroma_cqt139, chroma_cqt140, chroma_cqt141, chroma_cqt142, chroma_cqt143, chroma_cqt144, chroma_cqt145, chroma_cqt146, chroma_cqt147, chroma_cqt148, chroma_cqt149, chroma_cqt150, chroma_cqt151, chroma_cqt152, chroma_cqt153, chroma_cqt154, chroma_cqt155, chroma_cqt156, chroma_cqt157, chroma_cqt158, chroma_cqt159, chroma_cqt160, chroma_cqt161, chroma_cqt162, chroma_cqt163, chroma_cqt164, chroma_cqt165, chroma_cqt166, chroma_cqt167, chroma_cqt168, chroma_stft169, chroma_stft170, chroma_stft171, chroma_stft172, chroma_stft173, chroma_stft174, chroma_stft175, chroma_stft176, chroma_stft177, chroma_stft178, chroma_stft179, chroma_stft180, chroma_stft181, chroma_stft182, chroma_stft183, chroma_stft184, chroma_stft185, chroma_stft186, chroma_stft187, chroma_stft188, chroma_stft189, chroma_stft190, chroma_stft191, chroma_stft192, chroma_stft193, chroma_stft194, chroma_stft195, chroma_stft196, chroma_stft197, chroma_stft198, chroma_stft199, chroma_stft200, chroma_stft201, chroma_stft202, chroma_stft203, chroma_stft204, chroma_stft205, chroma_stft206, chroma_stft207, chroma_stft208, chroma_stft209, chroma_stft210, chroma_stft211, chroma_stft212, chroma_stft213, chroma_stft214, chroma_stft215, chroma_stft216, chroma_stft217, chroma_stft218, chroma_stft219, chroma_stft220, chroma_stft221, chroma_stft222, chroma_stft223, chroma_stft224, chroma_stft225, chroma_stft226, chroma_stft227, chroma_stft228, chroma_stft229, chroma_stft230, chroma_stft231, chroma_stft232, chroma_stft233, chroma_stft234, chroma_stft235, chroma_stft236, chroma_stft237, chroma_stft238, chroma_stft239, chroma_stft240, chroma_stft241, chroma_stft242, chroma_stft243, chroma_stft244, chroma_stft245, chroma_stft246, chroma_stft247, chroma_stft248, chroma_stft249, chroma_stft250, chroma_stft251, chroma_stft252, mfcc253, mfcc254, mfcc255, mfcc256, mfcc257, mfcc258, mfcc259, mfcc260, mfcc261, mfcc262, mfcc263, mfcc264, mfcc265, mfcc266, mfcc267, mfcc268, mfcc269, mfcc270, mfcc271, mfcc272, mfcc273, mfcc274, mfcc275, mfcc276, mfcc277, mfcc278, mfcc279, mfcc280, mfcc281, mfcc282, mfcc283, mfcc284, mfcc285, mfcc286, mfcc287, mfcc288, mfcc289, mfcc290, mfcc291, mfcc292, mfcc293, mfcc294, mfcc295, mfcc296, mfcc297, mfcc298, mfcc299, mfcc300, mfcc301, mfcc302, mfcc303, mfcc304, mfcc305, mfcc306, mfcc307, mfcc308, mfcc309, mfcc310, mfcc311, mfcc312, mfcc313, mfcc314, mfcc315, mfcc316, mfcc317, mfcc318, mfcc319, mfcc320, mfcc321, mfcc322, mfcc323, mfcc324, mfcc325, mfcc326, mfcc327, mfcc328, mfcc329, mfcc330, mfcc331, mfcc332, mfcc333, mfcc334, mfcc335, mfcc336, mfcc337, mfcc338, mfcc339, mfcc340, mfcc341, mfcc342, mfcc343, mfcc344, mfcc345, mfcc346, mfcc347, mfcc348, mfcc349, mfcc350, mfcc351, mfcc352, mfcc353, mfcc354, mfcc355, mfcc356, mfcc357, mfcc358, mfcc359, mfcc360, mfcc361, mfcc362, mfcc363, mfcc364, mfcc365, mfcc366, mfcc367, mfcc368, mfcc369, mfcc370, mfcc371, mfcc372, mfcc373, mfcc374, mfcc375, mfcc376, mfcc377, mfcc378, mfcc379, mfcc380, mfcc381, mfcc382, mfcc383, mfcc384, mfcc385, mfcc386, mfcc387, mfcc388, mfcc389, mfcc390, mfcc391, mfcc392, rmse393, rmse394, rmse395, rmse396, rmse397, rmse398, rmse399, spectral_bandwidth400, spectral_bandwidth401, spectral_bandwidth402, spectral_bandwidth403, spectral_bandwidth404, spectral_bandwidth405, spectral_bandwidth406, spectral_centroid407, spectral_centroid408, spectral_centroid409, spectral_centroid410, spectral_centroid411, spectral_centroid412, spectral_centroid413, spectral_contrast414, spectral_contrast415, spectral_contrast416, spectral_contrast417, spectral_contrast418, spectral_contrast419, spectral_contrast420, spectral_contrast421, spectral_contrast422, spectral_contrast423, spectral_contrast424, spectral_contrast425, spectral_contrast426, spectral_contrast427, spectral_contrast428, spectral_contrast429, spectral_contrast430, spectral_contrast431, spectral_contrast432, spectral_contrast433, spectral_contrast434, spectral_contrast435, spectral_contrast436, spectral_contrast437, spectral_contrast438, spectral_contrast439, spectral_contrast440, spectral_contrast441, spectral_contrast442, spectral_contrast443, spectral_contrast444, spectral_contrast445, spectral_contrast446, spectral_contrast447, spectral_contrast448, spectral_contrast449, spectral_contrast450, spectral_contrast451, spectral_contrast452, spectral_contrast453, spectral_contrast454, spectral_contrast455, spectral_contrast456, spectral_contrast457, spectral_contrast458, spectral_contrast459, spectral_contrast460, spectral_contrast461, spectral_contrast462, spectral_rolloff463, spectral_rolloff464, spectral_rolloff465, spectral_rolloff466, spectral_rolloff467, spectral_rolloff468, spectral_rolloff469, tonnetz470, tonnetz471, tonnetz472, tonnetz473, tonnetz474, tonnetz475, tonnetz476, tonnetz477, tonnetz478, tonnetz479, tonnetz480, tonnetz481, tonnetz482, tonnetz483, tonnetz484, tonnetz485, tonnetz486, tonnetz487, tonnetz488, tonnetz489, tonnetz490, tonnetz491, tonnetz492, tonnetz493, tonnetz494, tonnetz495, tonnetz496, tonnetz497, tonnetz498, tonnetz499, tonnetz500, tonnetz501, tonnetz502, tonnetz503, tonnetz504, tonnetz505, tonnetz506, tonnetz507, tonnetz508, tonnetz509, tonnetz510, tonnetz511, zcr512, zcr513, zcr514, zcr515, zcr516, zcr517, zcr518\n",
      "Expected: chroma_cens1 but found: chroma_cens\n",
      "CSV file: file:///home/miragaia/Documents/4_ANO/2_SEMESTRE/MDLE/MDLE_PROJECT2/C/fma_metadata/features.csv\n",
      "25/05/07 22:45:56 WARN DAGScheduler: Broadcasting large task binary with size 1071.8 KiB\n",
      "                                                                                \r"
     ]
    }
   ],
   "source": [
    "def compute_stats(rows):\n",
    "    sums = np.zeros(num_features)\n",
    "    sumsqs = np.zeros(num_features)\n",
    "    count = 0\n",
    "    for row in rows:\n",
    "        x = np.array(row[1:]).astype(float)\n",
    "        sums += x\n",
    "        sumsqs += x**2\n",
    "        count += 1\n",
    "    return [(sums, sumsqs, count)]\n",
    "\n",
    "partial = data_df.rdd.mapPartitions(compute_stats)\n",
    "sums, sumsqs, count = partial.reduce(lambda a, b: (a[0]+b[0], a[1]+b[1], a[2]+b[2]))\n",
    "means = sums / count\n",
    "stds = np.sqrt((sumsqs / count) - (means ** 2))\n",
    "means_b = spark.sparkContext.broadcast(means)\n",
    "stds_b = spark.sparkContext.broadcast(stds)"
   ]
  },
  {
   "cell_type": "markdown",
   "id": "48ab6cfa",
   "metadata": {},
   "source": [
    "## 5. Normalize and Prepare Features"
   ]
  },
  {
   "cell_type": "code",
   "execution_count": 13,
   "id": "29374bb5",
   "metadata": {},
   "outputs": [
    {
     "name": "stderr",
     "output_type": "stream",
     "text": [
      "25/05/07 22:46:10 WARN DAGScheduler: Broadcasting large task binary with size 1072.0 KiB\n",
      "                                                                                \r"
     ]
    }
   ],
   "source": [
    "def normalize(row):\n",
    "    x = np.array(row[1:]).astype(float)\n",
    "    x = (x - means_b.value) / (stds_b.value + 1e-9)\n",
    "    return (row[0], Vectors.dense(x))\n",
    "\n",
    "norm_rdd = data_df.rdd.map(normalize)\n",
    "norm_df = spark.createDataFrame(norm_rdd, [\"track_id\", \"features\"]).repartition(8).cache()"
   ]
  },
  {
   "cell_type": "markdown",
   "id": "45852932",
   "metadata": {},
   "source": [
    "## BFR Helper Functions"
   ]
  },
  {
   "cell_type": "code",
   "execution_count": 14,
   "id": "2954c863",
   "metadata": {},
   "outputs": [],
   "source": [
    "class ClusterSet:\n",
    "    def __init__(self, k, threshold, num_features):\n",
    "        self.k = k\n",
    "        self.threshold = threshold\n",
    "        self.num_features = num_features\n",
    "        self.DS = {}  # Discard Set\n",
    "        self.CS = {}  # Compression Set\n",
    "        self.RS = []  # Retained Set\n",
    "        self.track_to_cluster = {}\n",
    "        self.cid_counter = 0\n",
    "\n",
    "    def mahalanobis(self, x, stats):\n",
    "        N, SUM, SUMSQ = stats[\"N\"], stats[\"SUM\"], stats[\"SUMSQ\"]\n",
    "        centroid = SUM / N\n",
    "        var = (SUMSQ / N) - centroid ** 2\n",
    "        var[var == 0] = 1e-9\n",
    "        return np.sqrt(np.sum((x - centroid)**2 / var))\n",
    "\n",
    "    def initialize(self, df):\n",
    "        km = KMeans(k=self.k, seed=42, featuresCol=\"features\").fit(df)\n",
    "        preds = km.transform(df).select(\"track_id\", \"features\", \"prediction\").collect()\n",
    "        for row in preds:\n",
    "            cid = int(row[\"prediction\"])\n",
    "            x = np.array(row[\"features\"])\n",
    "            tid = row[\"track_id\"]\n",
    "            if cid not in self.DS:\n",
    "                self.DS[cid] = {\"N\": 0, \"SUM\": np.zeros_like(x), \"SUMSQ\": np.zeros_like(x)}\n",
    "            self.DS[cid][\"N\"] += 1\n",
    "            self.DS[cid][\"SUM\"] += x\n",
    "            self.DS[cid][\"SUMSQ\"] += x ** 2\n",
    "            self.track_to_cluster[tid] = cid\n",
    "\n",
    "    def assign(self, tid, x):\n",
    "        for cid, stats in self.DS.items():\n",
    "            if self.mahalanobis(x, stats) < self.threshold:\n",
    "                stats[\"N\"] += 1\n",
    "                stats[\"SUM\"] += x\n",
    "                stats[\"SUMSQ\"] += x**2\n",
    "                self.track_to_cluster[tid] = cid\n",
    "                return True\n",
    "        for cid, stats in self.CS.items():\n",
    "            if self.mahalanobis(x, stats) < self.threshold:\n",
    "                stats[\"N\"] += 1\n",
    "                stats[\"SUM\"] += x\n",
    "                stats[\"SUMSQ\"] += x**2\n",
    "                self.track_to_cluster[tid] = f\"CS_{cid}\"\n",
    "                return True\n",
    "        return False\n",
    "\n",
    "    def recluster_RS(self):\n",
    "        if len(self.RS) < 10:\n",
    "            return\n",
    "        k_rs = min(10, len(self.RS) // 2)\n",
    "        rs_df = spark.createDataFrame([(i, Vectors.dense(x)) for i, x in self.RS], [\"track_id\", \"features\"])\n",
    "        model = KMeans(k=k_rs, seed=42, featuresCol=\"features\").fit(rs_df)\n",
    "        preds = model.transform(rs_df).collect()\n",
    "\n",
    "        new_RS = []\n",
    "        grouped = defaultdict(list)\n",
    "        for row in preds:\n",
    "            grouped[row[\"prediction\"]].append((row[\"track_id\"], np.array(row[\"features\"])))\n",
    "\n",
    "        for group in grouped.values():\n",
    "            if len(group) > 1:\n",
    "                cid = self.cid_counter\n",
    "                self.cid_counter += 1\n",
    "                self.CS[cid] = {\"N\": 0, \"SUM\": np.zeros(self.num_features), \"SUMSQ\": np.zeros(self.num_features)}\n",
    "                for tid, x in group:\n",
    "                    self.CS[cid][\"N\"] += 1\n",
    "                    self.CS[cid][\"SUM\"] += x\n",
    "                    self.CS[cid][\"SUMSQ\"] += x**2\n",
    "                    self.track_to_cluster[tid] = f\"CS_{cid}\"\n",
    "            else:\n",
    "                new_RS.extend(group)\n",
    "        self.RS = new_RS\n",
    "\n",
    "    def merge_CS_to_DS(self):\n",
    "        for cs_id in list(self.CS.keys()):\n",
    "            stats = self.CS[cs_id]\n",
    "            centroid = stats[\"SUM\"] / stats[\"N\"]\n",
    "            for ds_id, ds_stats in self.DS.items():\n",
    "                dist = self.mahalanobis(centroid, ds_stats)\n",
    "                if dist < self.threshold:\n",
    "                    self.DS[ds_id][\"N\"] += stats[\"N\"]\n",
    "                    self.DS[ds_id][\"SUM\"] += stats[\"SUM\"]\n",
    "                    self.DS[ds_id][\"SUMSQ\"] += stats[\"SUMSQ\"]\n",
    "                    for tid, cid in list(self.track_to_cluster.items()):\n",
    "                        if cid == f\"CS_{cs_id}\":\n",
    "                            self.track_to_cluster[tid] = ds_id\n",
    "                    del self.CS[cs_id]\n",
    "                    break"
   ]
  },
  {
   "cell_type": "markdown",
   "id": "904bfb16",
   "metadata": {},
   "source": [
    "## 6. BFR Loop"
   ]
  },
  {
   "cell_type": "code",
   "execution_count": 15,
   "id": "e289ec3e",
   "metadata": {},
   "outputs": [
    {
     "name": "stderr",
     "output_type": "stream",
     "text": [
      "25/05/07 22:46:11 WARN DAGScheduler: Broadcasting large task binary with size 1082.3 KiB\n",
      "/tmp/ipykernel_36575/758745207.py:17: RuntimeWarning: invalid value encountered in sqrt\n",
      "  return np.sqrt(np.sum((x - centroid)**2 / var))\n"
     ]
    },
    {
     "name": "stdout",
     "output_type": "stream",
     "text": [
      "DS clusters: 8 | CS clusters: 4 | RS points: 22\n"
     ]
    }
   ],
   "source": [
    "bfr = ClusterSet(k=8, threshold=2 * np.sqrt(num_features), num_features=num_features)\n",
    "\n",
    "first_chunk = norm_df.filter(col(\"track_id\") < 15000)\n",
    "bfr.initialize(first_chunk)\n",
    "\n",
    "step = 15000\n",
    "max_id = norm_df.agg({\"track_id\": \"max\"}).collect()[0][0]\n",
    "\n",
    "for start in range(15000, max_id + 1, step):\n",
    "    chunk = norm_df.filter((col(\"track_id\") >= start) & (col(\"track_id\") < start + step))\n",
    "    for row in chunk.collect():\n",
    "        tid = row[\"track_id\"]\n",
    "        x = np.array(row[\"features\"])\n",
    "        if not bfr.assign(tid, x):\n",
    "            bfr.RS.append((tid, x))\n",
    "\n",
    "    if len(bfr.RS) >= 100:\n",
    "        bfr.recluster_RS()\n",
    "\n",
    "bfr.merge_CS_to_DS()\n",
    "\n",
    "print(f\"DS clusters: {len(bfr.DS)} | CS clusters: {len(bfr.CS)} | RS points: {len(bfr.RS)}\")"
   ]
  },
  {
   "cell_type": "markdown",
   "id": "e3bd02cf",
   "metadata": {},
   "source": [
    "## 7. Save Results"
   ]
  },
  {
   "cell_type": "code",
   "execution_count": 16,
   "id": "d9b4a235",
   "metadata": {},
   "outputs": [],
   "source": [
    "final_clusters = {\"DS\": defaultdict(list), \"CS\": defaultdict(list), \"RS\": {}}\n",
    "for tid, cid in bfr.track_to_cluster.items():\n",
    "    if str(cid).startswith(\"CS_\"):\n",
    "        final_clusters[\"CS\"][cid].append(tid)\n",
    "    else:\n",
    "        final_clusters[\"DS\"][cid].append(tid)\n",
    "for idx, (tid, _) in enumerate(bfr.RS):\n",
    "    final_clusters[\"RS\"][str(idx)] = tid\n",
    "\n",
    "with open(\"./output/C2/bfr_results.json\", \"w\") as f:\n",
    "    json.dump(final_clusters, f, indent=4)"
   ]
  }
 ],
 "metadata": {
  "kernelspec": {
   "display_name": "ds",
   "language": "python",
   "name": "python3"
  },
  "language_info": {
   "codemirror_mode": {
    "name": "ipython",
    "version": 3
   },
   "file_extension": ".py",
   "mimetype": "text/x-python",
   "name": "python",
   "nbconvert_exporter": "python",
   "pygments_lexer": "ipython3",
   "version": "3.12.5"
  }
 },
 "nbformat": 4,
 "nbformat_minor": 5
}
